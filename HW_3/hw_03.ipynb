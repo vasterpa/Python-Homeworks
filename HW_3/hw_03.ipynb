{
 "cells": [
  {
   "cell_type": "code",
   "execution_count": 416,
   "id": "b8967243-87c1-43c5-a5a1-d0438aede211",
   "metadata": {},
   "outputs": [],
   "source": [
    "import json\n",
    "import csv\n",
    "import re\n",
    "\n",
    "# В ЭТОМ ДЗ ВЫ БУДЕТЕ АНАЛИЗИРОВАТЬ ДАННЫЕ ОБ АВИАПРОИСШЕСТВИЯХ С УЧАСТИЕМ МОДЕЛЕЙ ДРОНОВ ИЗ ВАШИХ ИСХОДНЫХ ДАННЫХ В .JSON\n",
    "\n",
    "# =====================================\n",
    "# ЗАДАНИЕ 1: Классы - декораторы\n",
    "# =====================================\n",
    "# TODO 1-1 - Добавить атрибут incidents типа список\n",
    "# Возьмите код из предыдущего ДЗ\n",
    "# Добавьте в класс MultirotorUAV атрибут incidents и внесите туда информацию обо всех найденных происшествиях для этой модели\n",
    "# Не забудьте, что атрибут добавляется при помощи декоратора\n",
    "\n",
    "class Aircraft:\n",
    "    def __init__(self, weight):\n",
    "        self._weight = weight\n",
    "\n",
    "class UAV:\n",
    "    def __init__(self):\n",
    "        self._has_autopilot = True\n",
    "        self._missions = []\n",
    "\n",
    "    @property\n",
    "    def missions(self):\n",
    "        return self._missions\n",
    "\n",
    "    @missions.setter\n",
    "    def missions(self, mission):\n",
    "        self._missions.append(mission)\n",
    " \n",
    "    def count_missions(self):\n",
    "        return len(self._missions)\n",
    "    \n",
    "class MultirotorUAV(Aircraft, UAV):\n",
    "    def __init__(self, weight, model, brand):\n",
    "        super().__init__(weight)\n",
    "        UAV.__init__(self)\n",
    "        self.__weight = weight\n",
    "        self.__model = model\n",
    "        self.__brand = brand\n",
    "\n",
    "        # добавьте приватный атрибут incidents\n",
    "        self.__incidents = []\n",
    "    \n",
    "    def get_info(self):\n",
    "        return f'Масса: {self.__weight}, Брэнд: {self.__brand}, Кол-во миссий: {self.count_missions()}'\n",
    "\n",
    "    def get_model(self):\n",
    "        return self.__model\n",
    "      \n",
    "    def get_weight(self):\n",
    "        return self.__weight\n",
    "\n",
    "    def get_brand(self):\n",
    "        return self.__brand\n",
    "    \n",
    "    # напишите код декоратора для атрибута incidents. Не забудьте сначала добавить приватный атрибут в класс\n",
    "    @property\n",
    "    def incidents(self):\n",
    "        return self.__incidents\n",
    "\n",
    "    # напишите публичный метод add_incident, который добавляет инцидент в список инцидентов для данной модели дрона\n",
    "    def add_incident(self, incidents):\n",
    "        self.__incidents.append(incidents)\n",
    "\n",
    "    # напишите публичный метод save_data, который сохраняет информацию о дроне в файл json\n",
    "    def save_data_to_json(self):\n",
    "        filepath = self.__class__.__name__ + self.get_model() + \".json\"\n",
    "\n",
    "        temp = {}\n",
    "        temp['model'] = self.__model\n",
    "        temp['weight'] = self.__weight\n",
    "        temp['brand'] = self.__brand\n",
    "        temp['missions'] = self.missions\n",
    "        temp['incidents'] = self.__incidents\n",
    "        \n",
    "        with open(filepath, 'w') as f:\n",
    "            json.dump(temp, f, ensure_ascii=False, indent=4)\n",
    "        \n",
    "        return temp"
   ]
  },
  {
   "cell_type": "code",
   "execution_count": 417,
   "id": "8eb54feb-6b56-453b-9a6d-b2795082351a",
   "metadata": {},
   "outputs": [],
   "source": [
    "# ВАШ КОД из предыдущего ДЗ, необходимый для решения этого ДЗ (чтение данных о пилотах, сбор информации о дронах и пр.):\n",
    "\n",
    "data = json.load(open(r'C:\\Users\\vasat\\Dev po\\HW_3\\pilot_path.json', 'r', encoding='utf-8'))\n",
    "    \n",
    "drone_catalog = {\n",
    "        \"DJI Mavic 2 Pro\": {\"weight\": 903, \"brand\": \"DJI\"},\n",
    "        \"DJI Mavic 2 Zoom\": {\"weight\": 900, \"brand\": \"DJI\"},\n",
    "        \"DJI Mavic 2 Enterprise Advanced\": {\"weight\": 920, \"brand\": \"DJI\"},\n",
    "        \"DJI Inspire 2\": {\"weight\": 1500, \"brand\": \"DJI\"},\n",
    "        \"DJI Mavic 3\": {\"weight\": 1000, \"brand\": \"DJI\"}\n",
    "    }\n",
    "\n",
    "drones = set()\n",
    "\n",
    "for pilot in data:\n",
    "    if data[pilot]['missions'][0]['drone'] in drones:\n",
    "        continue\n",
    "    else:\n",
    "        drones.add(data[pilot]['missions'][0]['drone'])\n",
    "\n",
    "drone_list = []\n",
    "\n",
    "for drone in drones:\n",
    "    new_drone = MultirotorUAV(\n",
    "        weight = drone_catalog[drone]['weight'],\n",
    "        model = drone,\n",
    "        brand = drone_catalog[drone]['brand']\n",
    "    )\n",
    "    missions = []\n",
    "    for pilot in data:\n",
    "        i = 0\n",
    "        for mission in data[pilot]['missions']:\n",
    "            if data[pilot]['missions'][i]['drone'] == drone:\n",
    "                new_drone.missions.append(data[pilot]['missions'][0]['drone'])\n",
    "            i += 1\n",
    "\n",
    "    drone_list.append(new_drone)"
   ]
  },
  {
   "cell_type": "code",
   "execution_count": 418,
   "id": "8e3572f1-c404-4b33-81cf-8a8ca5d09df7",
   "metadata": {},
   "outputs": [
    {
     "data": {
      "text/plain": [
       "'DJI Mavic 3'"
      ]
     },
     "execution_count": 418,
     "metadata": {},
     "output_type": "execute_result"
    }
   ],
   "source": [
    "drone_list[0].get_model()"
   ]
  },
  {
   "cell_type": "code",
   "execution_count": 419,
   "id": "ad3b182a-42cc-49ce-83ea-e640e20df623",
   "metadata": {},
   "outputs": [],
   "source": [
    "# =====================================\n",
    "# ЗАДАНИЕ 2: Файлы - CSV\n",
    "# =====================================\n",
    "# TODO 2-1 - Загрузите информацию об авиапроисшествиях из файла csv\n",
    "# Проверьте по моделям (названия моделей возьмите из экземпляров класса MultirotorUAV), какие из них участвовали в авиапроисшествиях\n",
    "\n",
    "# ВАШ КОД чтения данных из файла:"
   ]
  },
  {
   "cell_type": "code",
   "execution_count": 420,
   "id": "96fc7fb3-91b9-4fbb-baf0-ef75abcbb296",
   "metadata": {},
   "outputs": [
    {
     "name": "stdout",
     "output_type": "stream",
     "text": [
      "['ACCIDENT AND INCIDENT DATABASE,20200525021299I,25-MAY-20,MOJAVE,CA,MOJAVE,INCIDENT,NOT A MIDAIR,MINOR,NONE ,1,0,2,\"ON MAY 25, 2020, MOJAVE AIR AND SPACE PORT (KMHV) AIR TRAFFIC CONTROL TOWER (ATCT) PROVIDED VERBAL AUTHORIZATION TO ^PRIVACY DATA OMITTED^ TO PERFORM SUAS OPERATIONS IN KMHV CLASS D AIRSPACE. WIND SPEED WAS 7 KNOTS WITH GUSTS AT 14 KNOTS. WIND DIRECTION 060. ^PRIVACY DATA OMITTED^. AND KMHV HAVE A LETTER OF AGREEMENT (LOA) EFFECTIVE JANUARY 28, 2020 FOR SUAS OPERATIONS IN KMHV CLASS D AIRSPACE. ^PRIVACY DATA OMITTED^ HOLDS A CURRENT CERTIFICATE OF WAIVER OR AUTHORIZATION EFFECTIVE FROM JANUARY 31, 2019 TO SEPTEMBER 30, 2020 TO PERFORM SMALL UNMANNED AIRCRAFT SYTEM (SUAS) OPERATIONS IN CLASS D AIRSPACE AT KMHV. ^PRIVACY DATA OMITTED^ HOLDS A CURRENT REMOTE PILOT CERTIFICATE WITH A SUAS RATING ^PRIVACY DATA OMITTED^. REMOTE PILOT IN COMMAND (RPIC), ^PRIVACY DATA OMITTED^ WAS OPERATING UNDER PART 107 AT KMHV COVERING SURVEILLANCE OF THE VIRGIN ORBIT LAUNCHER ONE MISSION. RPIC WAS OPERATING A DJI INSPIRE 2 WITH A CAMERA/GIMBLE COMBINATION SET UP. DJI INSPIRE 2 (SN 09YDDCQL040384) CURRENT FAA SUAS REGISTRATION NUMBER FA343FTPWM. REGISTERED TO ^PRIVACY DATA OMITTED^. RPIC WAS OPERATING WITH ONE INEXPERIENCED VISUAL OBSERVER (VO). RPIC WAS NOT ACCUSTOMED TO OPERATING THE SMALL UNMANNED AIRCRAFT CONTROLS, MANIPULATING THE CAMERA/GIMBLE COMBINATION SET UP, AND COMMUNICATING TO ATCT VIA RADIO SIMULTANEOUSLY. RPIC WAS ALSO WORKING WITH AN INEXPERIENCED VO. RPIC BECAME TASK SATURATED AND LOST SIGHT OF THE SMALL UNMANNED AIRCRAFT. AT 1208 LOCAL TIME, THE SMALL UNMANNED AIRCRAFT STRUCK THE WEST SIDE OF KMHV ATCT. ^PRIVACY DATA OMITTED^ SUSTAINED A SUPERFICIAL HORIZONTAL LACERATION TO HIS RIGHT LOWER, INSIDE FOREARM. HE WAS TREATED ON-SCENE WITH BANDAGE AND GAUZE WRAP.\";']\n",
      "['ACCIDENT AND INCIDENT DATABASE,20200715021179I,15-JUL-20,NORTH PORT,FL,INCIDENT,NOT A MIDAIR,DESTROYED,NONE ,1,0,0,\"ON JULY 15, 2020 AT 1050 EDT, A DJI, MAVIC 2 ZOOM L1Z UAS, SERIAL # 0M6TG85R0A04ZP, UA FA REGISTRATION # FA3RE7RNWP, REGISTERED TO ^PRIVACY DATA OMITTED^ (PIC), REMOTE PILOT CERTIFICATE ^PRIVACY DATA OMITTED^, LOST CONTROLLED FLIGHT IN THE AREA OF ^PRIVACY DATA OMITTED^ AND HIT A BLACK NISSAN PICKUP TRUCK BEARING ^PRIVACY DATA OMITTED^ TRAVELING ALONG TAMIAMI TRAIL IN NORTH PORT CAUSING PROPERTY DAMAGE. THE UAS WAS FLOWN ON A RECREATIONAL FLIGHT OVER A CONSTRUCTION SITE AT ^PRIVACY DATA OMITTED^, USING AN AUTOMATIC FREQUENCY SELECTION FEATURE THAT RANGED FROM 2.400 - 2.4835 GHZ;\" 5.725 - 5.850 GHZ. WEATHER CONDITIONS WERE CLEAR AND ARE NOT CONSIDERED A FACTOR. THE UAS WAS DESTROYED AND THE PROPERTY DAMAGE WAS GREATER THAN $500. THERE WERE NO PERSONAL INJURIES. THE FLIGHT ORIGINATED FROM ^PRIVACY DATA OMITTED^\n",
      " 'UAS PILOT ^PRIVACY DATA OMITTED^ REMOTE CERTIFICATE #^PRIVACY DATA OMITTED^ WAS HIRED BY PRODUCER ^PRIVACY DATA OMITTED^ TO DO SOME AERIAL SHOTS OF EL MORRO FOR A DOCUMENTARY ABOUT THE 500 YEARS OF THE CITY OF SAN JUAN ON SEPTEMBER 3RD. USED RENTED DJI INSPIRE 2 DRONE. LOST CONTROL LINK WITH DRONE ON WAY BACK CRASHED INTO EL MORRO FORT IN OLD SAN JUAN.;']\n",
      "['ACCIDENT AND INCIDENT DATABASE,20200130003529I,30-JAN-20,COLUMBUS,OH,COLUMBUS,INCIDENT,NOT A MIDAIR,SUBSTANTIAL,NONE ,1,0,0,\"AIRCRAFT IS A DJI T650A INSPIRE 2 SUAS, SERIAL # 0A0LG2J107005, REGISTRATION # FA3FTYCLFE. FREQUENCY USED IS UNKNOWN. THE AIRCRAFT HAS TWO FREQUENCIES AVAILABLE, 2.4 AND 5.8 GHZ, BUT THE PIC DOESN\\'T REMEMBER WHICH ONE WAS IN USE DURING THE FLIGHT. PIC IS ^PRIVACY DATA OMITTED^, CERTIFICATE ^PRIVACY DATA OMITTED^. ^PRIVACY DATA OMITTED^ SAID THAT THE UAS EXPERIENCED AN ERROR ON ITS FIRST CALIBRATION ATTEMPT PRIOR TO LAUNCH BUT CALIBRATED CORRECTLY ON THE SECOND ATTEMPT AND THE FLIGHT CONTINUED AFTER RECORDING THE HOME POINT AT THE LAUNCH POSITION. HE SAID THE UAS WAS IN POSITIONING MODE (P-MODE) FOR THE ENTIRE FLIGHT. THE LANDING SEQUENCE WAS INITIATED MANUALLY (I.E. THE AUTOLAND FEATURE WAS NOT USED). ^PRIVACY DATA OMITTED^ SAID THAT THE UAS \"\"TOOK OFF\"\" WHEN IT GOT DOWN TO ABOUT 5\\' AGL AND FLEW INSIDE THE CPD HANGAR WHERE IT STRUCK A CPD HELICOPTER. HE SAID THAT THE UAS ACTED AS IF IT WAS \"\"PRE-PROGRAMMED\"\" TO FLY INTO THE HANGAR ONCE IT GOT AWAY FROM HIM.\";']\n"
     ]
    }
   ],
   "source": [
    "#=====================================\n",
    "# ЗАДАНИЕ 3: Классы\n",
    "# =====================================\n",
    "# TODO 3-1 - Для каждой модели дрона добавьте в экземпляр класса информацию об авиапроисшествиях, в которых участвовала эта модель\n",
    "# Информацию сохраните в атрибут incidents (используйте декораторы)\n",
    "# Подсказка: вот так вы получаете названия модели для каждого экземпляра класса MultirotorUAV\n",
    "# Экземпляры все так же находятся в списке (например, drones_cls_list)\n",
    "with open(r'C:\\Users\\vasat\\Dev po\\HW_3\\faa_incidents.csv') as f:\n",
    "    csv_data = csv.reader(f)\n",
    "    for line in csv_data:\n",
    "        str_line = str(line).split(\"',\")\n",
    "        for drone in drone_list:\n",
    "            name_of_drone = str(drone.get_model()).replace(\"DJI \", \"\")\n",
    "            for string in str_line:\n",
    "                incident = re.search(name_of_drone, str(string), re.I)\n",
    "                if incident != None:\n",
    "                    print(incident.string)\n",
    "                    drone.add_incident(incident.string)"
   ]
  },
  {
   "cell_type": "code",
   "execution_count": 421,
   "id": "f621e439-9ff7-4ad7-b6dd-c9cfbb834220",
   "metadata": {},
   "outputs": [
    {
     "data": {
      "text/plain": [
       "'Mavic 2 Zoom'"
      ]
     },
     "execution_count": 421,
     "metadata": {},
     "output_type": "execute_result"
    }
   ],
   "source": [
    "name_of_drone"
   ]
  },
  {
   "cell_type": "code",
   "execution_count": 422,
   "id": "c424dcf8-3a02-4b34-bc36-5fd82a60ac07",
   "metadata": {},
   "outputs": [],
   "source": [
    "# TODO 3-2 - Добавьте в класс MultirotorUAV публичный метод save_data, который сохраняет статистику по дрону в файл\n",
    "# Внимание! Метод save_data не принимает параметры. Название файла сформируйте как: название класса + название модели + расширение .json\n",
    "# например: \"MultirotorUAV_DJI Mavic 2 Pro.json\"\n",
    "# Подсказка: название класса вы можете получить вот так: self.__class__.__name__\n",
    "# используйте ключи: \"model\", \"weight\", \"brand\", \"missions\", \"incidents\"\n",
    "# например: {\"model\":\"DJI Inspire 2\", \"weight\": 1500, \"info\": \"...\", \"manufacturer\": \"DJI\", \"missions\": [], \"incidents\": []}\n",
    "\n",
    "# ВАШ КОД - допишите код в объявлении класса\n",
    "# дописано\n"
   ]
  },
  {
   "cell_type": "code",
   "execution_count": 423,
   "id": "b9920a9f-80a5-4de1-b07a-e9d386a47494",
   "metadata": {},
   "outputs": [
    {
     "name": "stdout",
     "output_type": "stream",
     "text": [
      "\n",
      "DJI Mavic 3: инцидентов - 0 \n",
      "\n",
      "\n",
      "DJI Inspire 2: инцидентов - 3 \n",
      "\n",
      "1 - ['ACCIDENT AND INCIDENT DATABASE,20200525021299I,25-MAY-20,MOJAVE,CA,MOJAVE,INCIDENT,NOT A MIDAIR,MINOR,NONE ,1,0,2,\"ON MAY 25, 2020, MOJAVE AIR AND SPACE PORT (KMHV) AIR TRAFFIC CONTROL TOWER (ATCT) PROVIDED VERBAL AUTHORIZATION TO ^PRIVACY DATA OMITTED^ TO PERFORM SUAS OPERATIONS IN KMHV CLASS D AIRSPACE. WIND SPEED WAS 7 KNOTS WITH GUSTS AT 14 KNOTS. WIND DIRECTION 060. ^PRIVACY DATA OMITTED^. AND KMHV HAVE A LETTER OF AGREEMENT (LOA) EFFECTIVE JANUARY 28, 2020 FOR SUAS OPERATIONS IN KMHV CLASS D AIRSPACE. ^PRIVACY DATA OMITTED^ HOLDS A CURRENT CERTIFICATE OF WAIVER OR AUTHORIZATION EFFECTIVE FROM JANUARY 31, 2019 TO SEPTEMBER 30, 2020 TO PERFORM SMALL UNMANNED AIRCRAFT SYTEM (SUAS) OPERATIONS IN CLASS D AIRSPACE AT KMHV. ^PRIVACY DATA OMITTED^ HOLDS A CURRENT REMOTE PILOT CERTIFICATE WITH A SUAS RATING ^PRIVACY DATA OMITTED^. REMOTE PILOT IN COMMAND (RPIC), ^PRIVACY DATA OMITTED^ WAS OPERATING UNDER PART 107 AT KMHV COVERING SURVEILLANCE OF THE VIRGIN ORBIT LAUNCHER ONE MISSION. RPIC WAS OPERATING A DJI INSPIRE 2 WITH A CAMERA/GIMBLE COMBINATION SET UP. DJI INSPIRE 2 (SN 09YDDCQL040384) CURRENT FAA SUAS REGISTRATION NUMBER FA343FTPWM. REGISTERED TO ^PRIVACY DATA OMITTED^. RPIC WAS OPERATING WITH ONE INEXPERIENCED VISUAL OBSERVER (VO). RPIC WAS NOT ACCUSTOMED TO OPERATING THE SMALL UNMANNED AIRCRAFT CONTROLS, MANIPULATING THE CAMERA/GIMBLE COMBINATION SET UP, AND COMMUNICATING TO ATCT VIA RADIO SIMULTANEOUSLY. RPIC WAS ALSO WORKING WITH AN INEXPERIENCED VO. RPIC BECAME TASK SATURATED AND LOST SIGHT OF THE SMALL UNMANNED AIRCRAFT. AT 1208 LOCAL TIME, THE SMALL UNMANNED AIRCRAFT STRUCK THE WEST SIDE OF KMHV ATCT. ^PRIVACY DATA OMITTED^ SUSTAINED A SUPERFICIAL HORIZONTAL LACERATION TO HIS RIGHT LOWER, INSIDE FOREARM. HE WAS TREATED ON-SCENE WITH BANDAGE AND GAUZE WRAP.\";']\n",
      "\n",
      "2 -  'UAS PILOT ^PRIVACY DATA OMITTED^ REMOTE CERTIFICATE #^PRIVACY DATA OMITTED^ WAS HIRED BY PRODUCER ^PRIVACY DATA OMITTED^ TO DO SOME AERIAL SHOTS OF EL MORRO FOR A DOCUMENTARY ABOUT THE 500 YEARS OF THE CITY OF SAN JUAN ON SEPTEMBER 3RD. USED RENTED DJI INSPIRE 2 DRONE. LOST CONTROL LINK WITH DRONE ON WAY BACK CRASHED INTO EL MORRO FORT IN OLD SAN JUAN.;']\n",
      "\n",
      "3 - ['ACCIDENT AND INCIDENT DATABASE,20200130003529I,30-JAN-20,COLUMBUS,OH,COLUMBUS,INCIDENT,NOT A MIDAIR,SUBSTANTIAL,NONE ,1,0,0,\"AIRCRAFT IS A DJI T650A INSPIRE 2 SUAS, SERIAL # 0A0LG2J107005, REGISTRATION # FA3FTYCLFE. FREQUENCY USED IS UNKNOWN. THE AIRCRAFT HAS TWO FREQUENCIES AVAILABLE, 2.4 AND 5.8 GHZ, BUT THE PIC DOESN\\'T REMEMBER WHICH ONE WAS IN USE DURING THE FLIGHT. PIC IS ^PRIVACY DATA OMITTED^, CERTIFICATE ^PRIVACY DATA OMITTED^. ^PRIVACY DATA OMITTED^ SAID THAT THE UAS EXPERIENCED AN ERROR ON ITS FIRST CALIBRATION ATTEMPT PRIOR TO LAUNCH BUT CALIBRATED CORRECTLY ON THE SECOND ATTEMPT AND THE FLIGHT CONTINUED AFTER RECORDING THE HOME POINT AT THE LAUNCH POSITION. HE SAID THE UAS WAS IN POSITIONING MODE (P-MODE) FOR THE ENTIRE FLIGHT. THE LANDING SEQUENCE WAS INITIATED MANUALLY (I.E. THE AUTOLAND FEATURE WAS NOT USED). ^PRIVACY DATA OMITTED^ SAID THAT THE UAS \"\"TOOK OFF\"\" WHEN IT GOT DOWN TO ABOUT 5\\' AGL AND FLEW INSIDE THE CPD HANGAR WHERE IT STRUCK A CPD HELICOPTER. HE SAID THAT THE UAS ACTED AS IF IT WAS \"\"PRE-PROGRAMMED\"\" TO FLY INTO THE HANGAR ONCE IT GOT AWAY FROM HIM.\";']\n",
      "\n",
      "\n",
      "DJI Mavic 2 Pro: инцидентов - 0 \n",
      "\n",
      "\n",
      "DJI Mavic 2 Enterprise Advanced: инцидентов - 0 \n",
      "\n",
      "\n",
      "DJI Mavic 2 Zoom: инцидентов - 1 \n",
      "\n",
      "1 - ['ACCIDENT AND INCIDENT DATABASE,20200715021179I,15-JUL-20,NORTH PORT,FL,INCIDENT,NOT A MIDAIR,DESTROYED,NONE ,1,0,0,\"ON JULY 15, 2020 AT 1050 EDT, A DJI, MAVIC 2 ZOOM L1Z UAS, SERIAL # 0M6TG85R0A04ZP, UA FA REGISTRATION # FA3RE7RNWP, REGISTERED TO ^PRIVACY DATA OMITTED^ (PIC), REMOTE PILOT CERTIFICATE ^PRIVACY DATA OMITTED^, LOST CONTROLLED FLIGHT IN THE AREA OF ^PRIVACY DATA OMITTED^ AND HIT A BLACK NISSAN PICKUP TRUCK BEARING ^PRIVACY DATA OMITTED^ TRAVELING ALONG TAMIAMI TRAIL IN NORTH PORT CAUSING PROPERTY DAMAGE. THE UAS WAS FLOWN ON A RECREATIONAL FLIGHT OVER A CONSTRUCTION SITE AT ^PRIVACY DATA OMITTED^, USING AN AUTOMATIC FREQUENCY SELECTION FEATURE THAT RANGED FROM 2.400 - 2.4835 GHZ;\" 5.725 - 5.850 GHZ. WEATHER CONDITIONS WERE CLEAR AND ARE NOT CONSIDERED A FACTOR. THE UAS WAS DESTROYED AND THE PROPERTY DAMAGE WAS GREATER THAN $500. THERE WERE NO PERSONAL INJURIES. THE FLIGHT ORIGINATED FROM ^PRIVACY DATA OMITTED^\n",
      "\n"
     ]
    }
   ],
   "source": [
    "# =====================================\n",
    "# ЗАДАНИЕ 4: Регулярные выражения\n",
    "# =====================================\n",
    "# TODO 4-1 - Выведите на экран собранную информацию по инцидентам по каждому дрону в таком виде:\n",
    "# модель: инцидентов - количество\n",
    "# 1 - краткий текст инцидента*\n",
    "# полный текст инцидента\n",
    "# * - краткий текст инцидента получайте следующим образом: в исходном тексте инцидента найдите модель, например, INSPIRE 2,\n",
    "# и выведите все предложения, в которых встречается упоминание этой модели\n",
    "# Подсказка 1: Полностью готовый код есть в лекции про регулярные выражения (пример про перелетных птиц).\n",
    "# Ваши изменения: а) вставить вместо \"зим\" название модели дрона, б) поменять язык поиска на английский\n",
    "# Подсказка 2: не забывайте использовать флаг re.I для игнорирования регистра символов\n",
    "# Подсказка 3: перед тем, как искать, уберите из названия модели название производителя\n",
    "# Подсказка 4: лучше не используйте re.compile. Для этого случая работает не очень\n",
    "\n",
    "# РЕЗУЛЬТАТ:\n",
    "# mavic 2 enterprise advanced: инцидентов - 0\n",
    "# mavic 2 pro: инцидентов - 0\n",
    "# mavic 3: инцидентов - 0\n",
    "# mavic 2 zoom: инцидентов - 1\n",
    "# 1 - ON JULY 15, 2020 AT 1050 EDT, A DJI, MAVIC 2 ZOOM L1Z UAS, SERIAL # 0M6TG85R0A04ZP, UA FA REGISTRATION # FA3RE7RNWP, REGISTERED TO ^PRIVACY DATA OMITTED^ (PIC), REMOTE PILOT CERTIFICATE ^PRIVACY DATA OMITTED^, LOST CONTROLLED FLIGHT IN THE AREA OF ^PRIVACY DATA OMITTED^ AND HIT A BLACK NISSAN PICKUP TRUCK BEARING ^PRIVACY DATA OMITTED^ TRAVELING ALONG TAMIAMI TRAIL IN NORTH PORT CAUSING PROPERTY DAMAGE.\n",
    "# ON JULY 15, 2020 AT 1050 EDT, A DJI, MAVIC 2 ZOOM L1Z UAS, SERIAL # 0M6TG85R0A04ZP, UA FA REGISTRATION # FA3RE7RNWP, REGISTERED TO ^PRIVACY DATA OMITTED^ (PIC), REMOTE PILOT CERTIFICATE ^PRIVACY DATA OMITTED^, LOST CONTROLLED FLIGHT IN THE AREA OF ^PRIVACY DATA OMITTED^ AND HIT A BLACK NISSAN PICKUP TRUCK BEARING ^PRIVACY DATA OMITTED^ TRAVELING ALONG TAMIAMI TRAIL IN NORTH PORT CAUSING PROPERTY DAMAGE. THE UAS WAS FLOWN ON A RECREATIONAL FLIGHT OVER A CONSTRUCTION SITE AT ^PRIVACY DATA OMITTED^, USING AN AUTOMATIC FREQUENCY SELECTION FEATURE THAT RANGED FROM 2.400 - 2.4835 GHZ; 5.725 - 5.850 GHZ. WEATHER CONDITIONS WERE CLEAR AND ARE NOT CONSIDERED A FACTOR. THE UAS WAS DESTROYED AND THE PROPERTY DAMAGE WAS GREATER THAN $500. THERE WERE NO PERSONAL INJURIES. THE FLIGHT ORIGINATED FROM ^PRIVACY DATA OMITTED^, EARLIER THAT DAY. WHILE THIS INCIDENT MEETS FAA UAS ACCIDENT CRITERIA, IT DOES NOT MEET THE NTSB?S UAS ACCIDENT CRITERIA. THE NTSB WOULD NOT ISSUE A NTSB ACCIDENT NUMBER FOR THIS EVENT. THEREFORE, THIS EVENT WILL BE CLASSIFIED AN INCIDENT.\n",
    "# inspire 2: инцидентов - 3\n",
    "# 1 - RPIC WAS OPERATING A DJI INSPIRE 2 WITH A CAMERA/GIMBLE COMBINATION SET UP. DJI INSPIRE 2 (SN 09YDDCQL040384) CURRENT FAA SUAS REGISTRATION NUMBER FA343FTPWM.\n",
    "# ON MAY 25, 2020, MOJAVE AIR AND SPACE PORT (KMHV) AIR TRAFFIC CONTROL TOWER (ATCT) PROVIDED VERBAL AUTHORIZATION TO ^PRIVACY DATA OMITTED^ TO PERFORM SUAS OPERATIONS IN KMHV CLASS D AIRSPACE. WIND SPEED WAS 7 KNOTS WITH GUSTS AT 14 KNOTS. WIND DIRECTION 060. ^PRIVACY DATA OMITTED^. AND KMHV HAVE A LETTER OF AGREEMENT (LOA) EFFECTIVE JANUARY 28, 2020 FOR SUAS OPERATIONS IN KMHV CLASS D AIRSPACE. ^PRIVACY DATA OMITTED^ HOLDS A CURRENT CERTIFICATE OF WAIVER OR AUTHORIZATION EFFECTIVE FROM JANUARY 31, 2019 TO SEPTEMBER 30, 2020 TO PERFORM SMALL UNMANNED AIRCRAFT SYTEM (SUAS) OPERATIONS IN CLASS D AIRSPACE AT KMHV. ^PRIVACY DATA OMITTED^ HOLDS A CURRENT REMOTE PILOT CERTIFICATE WITH A SUAS RATING ^PRIVACY DATA OMITTED^. REMOTE PILOT IN COMMAND (RPIC), ^PRIVACY DATA OMITTED^ WAS OPERATING UNDER PART 107 AT KMHV COVERING SURVEILLANCE OF THE VIRGIN ORBIT LAUNCHER ONE MISSION. RPIC WAS OPERATING A DJI INSPIRE 2 WITH A CAMERA/GIMBLE COMBINATION SET UP. DJI INSPIRE 2 (SN 09YDDCQL040384) CURRENT FAA SUAS REGISTRATION NUMBER FA343FTPWM. REGISTERED TO ^PRIVACY DATA OMITTED^. RPIC WAS OPERATING WITH ONE INEXPERIENCED VISUAL OBSERVER (VO). RPIC WAS NOT ACCUSTOMED TO OPERATING THE SMALL UNMANNED AIRCRAFT CONTROLS, MANIPULATING THE CAMERA/GIMBLE COMBINATION SET UP, AND COMMUNICATING TO ATCT VIA RADIO SIMULTANEOUSLY. RPIC WAS ALSO WORKING WITH AN INEXPERIENCED VO. RPIC BECAME TASK SATURATED AND LOST SIGHT OF THE SMALL UNMANNED AIRCRAFT. AT 1208 LOCAL TIME, THE SMALL UNMANNED AIRCRAFT STRUCK THE WEST SIDE OF KMHV ATCT. ^PRIVACY DATA OMITTED^ SUSTAINED A SUPERFICIAL HORIZONTAL LACERATION TO HIS RIGHT LOWER, INSIDE FOREARM. HE WAS TREATED ON-SCENE WITH BANDAGE AND GAUZE WRAP.\n",
    "# 2 - USED RENTED DJI INSPIRE 2 DRONE.\n",
    "# UAS PILOT ^PRIVACY DATA OMITTED^ REMOTE CERTIFICATE #^PRIVACY DATA OMITTED^ WAS HIRED BY PRODUCER ^PRIVACY DATA OMITTED^ TO DO SOME AERIAL SHOTS OF EL MORRO FOR A DOCUMENTARY ABOUT THE 500 YEARS OF THE CITY OF SAN JUAN ON SEPTEMBER 3RD. USED RENTED DJI INSPIRE 2 DRONE. LOST CONTROL LINK WITH DRONE ON WAY BACK CRASHED INTO EL MORRO FORT IN OLD SAN JUAN.\n",
    "# 3 - AIRCRAFT IS A DJI T650A INSPIRE 2 SUAS, SERIAL # 0A0LG2J107005, REGISTRATION # FA3FTYCLFE.\n",
    "# AIRCRAFT IS A DJI T650A INSPIRE 2 SUAS, SERIAL # 0A0LG2J107005, REGISTRATION # FA3FTYCLFE. FREQUENCY USED IS UNKNOWN. THE AIRCRAFT HAS TWO FREQUENCIES AVAILABLE, 2.4 AND 5.8 GHZ, BUT THE PIC DOESN'T REMEMBER WHICH ONE WAS IN USE DURING THE FLIGHT. PIC IS ^PRIVACY DATA OMITTED^, CERTIFICATE ^PRIVACY DATA OMITTED^. ^PRIVACY DATA OMITTED^ SAID THAT THE UAS EXPERIENCED AN ERROR ON ITS FIRST CALIBRATION ATTEMPT PRIOR TO LAUNCH BUT CALIBRATED CORRECTLY ON THE SECOND ATTEMPT AND THE FLIGHT CONTINUED AFTER RECORDING THE HOME POINT AT THE LAUNCH POSITION. HE SAID THE UAS WAS IN POSITIONING MODE (P-MODE) FOR THE ENTIRE FLIGHT. THE LANDING SEQUENCE WAS INITIATED MANUALLY (I.E. THE AUTOLAND FEATURE WAS NOT USED). ^PRIVACY DATA OMITTED^ SAID THAT THE UAS \"TOOK OFF\" WHEN IT GOT DOWN TO ABOUT 5' AGL AND FLEW INSIDE THE CPD HANGAR WHERE IT STRUCK A CPD HELICOPTER. HE SAID THAT THE UAS ACTED AS IF IT WAS \"PRE-PROGRAMMED\" TO FLY INTO THE HANGAR ONCE IT GOT AWAY FROM HIM.\n",
    "\n",
    "# ВАШ КОД:\n",
    "for drone in drone_list:\n",
    "    print(f'\\n{drone.get_model()}: инцидентов - {len(drone.incidents)} \\n')\n",
    "    if len(drone.incidents) != 0:\n",
    "        i = 1\n",
    "        for incident in drone.incidents:\n",
    "            print(f'{i} - {incident}\\n')\n",
    "            i+=1"
   ]
  },
  {
   "cell_type": "code",
   "execution_count": 424,
   "id": "be3e9f63-18c0-42ed-80e3-cdbe73e444f8",
   "metadata": {},
   "outputs": [
    {
     "data": {
      "text/plain": [
       "{'model': 'DJI Inspire 2',\n",
       " 'weight': 1500,\n",
       " 'brand': 'DJI',\n",
       " 'missions': ['DJI Inspire 2',\n",
       "  'DJI Inspire 2',\n",
       "  'DJI Mavic 2 Pro',\n",
       "  'DJI Mavic 2 Zoom',\n",
       "  'DJI Mavic 2 Zoom',\n",
       "  'DJI Mavic 2 Enterprise Advanced'],\n",
       " 'incidents': ['[\\'ACCIDENT AND INCIDENT DATABASE,20200525021299I,25-MAY-20,MOJAVE,CA,MOJAVE,INCIDENT,NOT A MIDAIR,MINOR,NONE ,1,0,2,\"ON MAY 25, 2020, MOJAVE AIR AND SPACE PORT (KMHV) AIR TRAFFIC CONTROL TOWER (ATCT) PROVIDED VERBAL AUTHORIZATION TO ^PRIVACY DATA OMITTED^ TO PERFORM SUAS OPERATIONS IN KMHV CLASS D AIRSPACE. WIND SPEED WAS 7 KNOTS WITH GUSTS AT 14 KNOTS. WIND DIRECTION 060. ^PRIVACY DATA OMITTED^. AND KMHV HAVE A LETTER OF AGREEMENT (LOA) EFFECTIVE JANUARY 28, 2020 FOR SUAS OPERATIONS IN KMHV CLASS D AIRSPACE. ^PRIVACY DATA OMITTED^ HOLDS A CURRENT CERTIFICATE OF WAIVER OR AUTHORIZATION EFFECTIVE FROM JANUARY 31, 2019 TO SEPTEMBER 30, 2020 TO PERFORM SMALL UNMANNED AIRCRAFT SYTEM (SUAS) OPERATIONS IN CLASS D AIRSPACE AT KMHV. ^PRIVACY DATA OMITTED^ HOLDS A CURRENT REMOTE PILOT CERTIFICATE WITH A SUAS RATING ^PRIVACY DATA OMITTED^. REMOTE PILOT IN COMMAND (RPIC), ^PRIVACY DATA OMITTED^ WAS OPERATING UNDER PART 107 AT KMHV COVERING SURVEILLANCE OF THE VIRGIN ORBIT LAUNCHER ONE MISSION. RPIC WAS OPERATING A DJI INSPIRE 2 WITH A CAMERA/GIMBLE COMBINATION SET UP. DJI INSPIRE 2 (SN 09YDDCQL040384) CURRENT FAA SUAS REGISTRATION NUMBER FA343FTPWM. REGISTERED TO ^PRIVACY DATA OMITTED^. RPIC WAS OPERATING WITH ONE INEXPERIENCED VISUAL OBSERVER (VO). RPIC WAS NOT ACCUSTOMED TO OPERATING THE SMALL UNMANNED AIRCRAFT CONTROLS, MANIPULATING THE CAMERA/GIMBLE COMBINATION SET UP, AND COMMUNICATING TO ATCT VIA RADIO SIMULTANEOUSLY. RPIC WAS ALSO WORKING WITH AN INEXPERIENCED VO. RPIC BECAME TASK SATURATED AND LOST SIGHT OF THE SMALL UNMANNED AIRCRAFT. AT 1208 LOCAL TIME, THE SMALL UNMANNED AIRCRAFT STRUCK THE WEST SIDE OF KMHV ATCT. ^PRIVACY DATA OMITTED^ SUSTAINED A SUPERFICIAL HORIZONTAL LACERATION TO HIS RIGHT LOWER, INSIDE FOREARM. HE WAS TREATED ON-SCENE WITH BANDAGE AND GAUZE WRAP.\";\\']',\n",
       "  \" 'UAS PILOT ^PRIVACY DATA OMITTED^ REMOTE CERTIFICATE #^PRIVACY DATA OMITTED^ WAS HIRED BY PRODUCER ^PRIVACY DATA OMITTED^ TO DO SOME AERIAL SHOTS OF EL MORRO FOR A DOCUMENTARY ABOUT THE 500 YEARS OF THE CITY OF SAN JUAN ON SEPTEMBER 3RD. USED RENTED DJI INSPIRE 2 DRONE. LOST CONTROL LINK WITH DRONE ON WAY BACK CRASHED INTO EL MORRO FORT IN OLD SAN JUAN.;']\",\n",
       "  '[\\'ACCIDENT AND INCIDENT DATABASE,20200130003529I,30-JAN-20,COLUMBUS,OH,COLUMBUS,INCIDENT,NOT A MIDAIR,SUBSTANTIAL,NONE ,1,0,0,\"AIRCRAFT IS A DJI T650A INSPIRE 2 SUAS, SERIAL # 0A0LG2J107005, REGISTRATION # FA3FTYCLFE. FREQUENCY USED IS UNKNOWN. THE AIRCRAFT HAS TWO FREQUENCIES AVAILABLE, 2.4 AND 5.8 GHZ, BUT THE PIC DOESN\\\\\\'T REMEMBER WHICH ONE WAS IN USE DURING THE FLIGHT. PIC IS ^PRIVACY DATA OMITTED^, CERTIFICATE ^PRIVACY DATA OMITTED^. ^PRIVACY DATA OMITTED^ SAID THAT THE UAS EXPERIENCED AN ERROR ON ITS FIRST CALIBRATION ATTEMPT PRIOR TO LAUNCH BUT CALIBRATED CORRECTLY ON THE SECOND ATTEMPT AND THE FLIGHT CONTINUED AFTER RECORDING THE HOME POINT AT THE LAUNCH POSITION. HE SAID THE UAS WAS IN POSITIONING MODE (P-MODE) FOR THE ENTIRE FLIGHT. THE LANDING SEQUENCE WAS INITIATED MANUALLY (I.E. THE AUTOLAND FEATURE WAS NOT USED). ^PRIVACY DATA OMITTED^ SAID THAT THE UAS \"\"TOOK OFF\"\" WHEN IT GOT DOWN TO ABOUT 5\\\\\\' AGL AND FLEW INSIDE THE CPD HANGAR WHERE IT STRUCK A CPD HELICOPTER. HE SAID THAT THE UAS ACTED AS IF IT WAS \"\"PRE-PROGRAMMED\"\" TO FLY INTO THE HANGAR ONCE IT GOT AWAY FROM HIM.\";\\']']}"
      ]
     },
     "execution_count": 424,
     "metadata": {},
     "output_type": "execute_result"
    }
   ],
   "source": [
    "# TODO 4-2 - После вывода информации об инциденте сохраните всю информацию о дроне в файл .json при помощи метода save_data\n",
    "# ВАШ КОД:\n",
    "#for drone in drone_list:\n",
    "drone_list[1].save_data_to_json()\n",
    "\n",
    "# РЕЗУЛЬТАТ:\n",
    "# см. приложенные файлы "
   ]
  },
  {
   "cell_type": "code",
   "execution_count": null,
   "id": "a741f383-c439-4319-8fbe-8e9d81849aec",
   "metadata": {},
   "outputs": [],
   "source": []
  },
  {
   "cell_type": "code",
   "execution_count": null,
   "id": "5b9456d2-123a-45e5-803a-984f0daf4239",
   "metadata": {},
   "outputs": [],
   "source": []
  }
 ],
 "metadata": {
  "kernelspec": {
   "display_name": "Python 3 (ipykernel)",
   "language": "python",
   "name": "python3"
  },
  "language_info": {
   "codemirror_mode": {
    "name": "ipython",
    "version": 3
   },
   "file_extension": ".py",
   "mimetype": "text/x-python",
   "name": "python",
   "nbconvert_exporter": "python",
   "pygments_lexer": "ipython3",
   "version": "3.10.4"
  }
 },
 "nbformat": 4,
 "nbformat_minor": 5
}
