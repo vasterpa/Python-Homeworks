{
 "cells": [
  {
   "cell_type": "code",
   "execution_count": 158,
   "id": "476833d2-6fa3-4c9c-bfaf-4dbf41e25888",
   "metadata": {},
   "outputs": [],
   "source": [
    "import json\n",
    "# Напоминание: вам понадобится материал лекций:\n",
    "# 3 - Списки и кортежи\n",
    "# 4 - Словари и множества\n",
    "# 7 и 8 - Классы\n",
    "# 9 - Работа с файлами\n",
    "\n",
    "# =====================================\n",
    "# ЗАДАНИЕ 1: Работа с файлами\n",
    "# =====================================\n",
    "# TODO 1-1\n",
    "#  Прочитайте данные из файла pilot_path.json (лекция 9)\n",
    "\n",
    "# ВАШ КОД:\n",
    "\n",
    "data = json.load(open(r'C:\\Users\\vasat\\Dev po\\HW_2\\pilot_path.json', 'r', encoding='utf-8'))"
   ]
  },
  {
   "cell_type": "code",
   "execution_count": 159,
   "id": "5b9e4dae-0ca1-449e-8f6e-15a8ebdcf927",
   "metadata": {},
   "outputs": [
    {
     "name": "stdout",
     "output_type": "stream",
     "text": [
      "Пилоты в порядке убывания количества миссий: {'pilot3': 6, 'pilot8': 6, 'pilot6': 5, 'pilot2': 5, 'pilot7': 4, 'pilot9': 3, 'pilot5': 3, 'pilot4': 2, 'pilot1': 1}\n"
     ]
    }
   ],
   "source": [
    "# =====================================\n",
    "# ЗАДАНИЕ 2: Расчет статистик\n",
    "# =====================================\n",
    "# TODO 2-1) Подсчитайте, сколько миссий налетал каждый пилот. Выведите результат в порядке убывания миссий\n",
    "# ИНФОРМАЦИЯ:\n",
    "# структура данных в файле: {\"имя_пилота\": \"список_миссий\":[миссия1, ...]]\n",
    "# структура одной миссии: {\"drone\":\"модель_дрона\", \"mission\":[список точек миссии]}\n",
    "# у пилотов неодинаковое количество миссий (и миссии могут быть разной длины). у каждой миссии - произвольная модель дрона\n",
    "\n",
    "# РЕЗУЛЬТАТ:\n",
    "# Пилоты в порядке убывания количества миссий: {'pilot3': 6, 'pilot8': 6, 'pilot6': 5, 'pilot2': 5, 'pilot7': 4, 'pilot9': 3, 'pilot5': 3, 'pilot4': 2, 'pilot1': 1}\n",
    "\n",
    "# ВАШ КОД:\n",
    "count_mission = {}\n",
    "\n",
    "for pilot in data:\n",
    "    count_mission[pilot] = len(data[pilot]['missions'])\n",
    "    \n",
    "# подсказка: готовый код нужной вам сортировки есть здесь (Sample Solution-1:): https://www.w3resource.com/python-exercises/dictionary/python-data-type-dictionary-exercise-1.php\n",
    "print(f\"Пилоты в порядке убывания количества миссий: {dict(sorted(count_mission.items(), key=lambda item: item[1], reverse=True))}\")"
   ]
  },
  {
   "cell_type": "code",
   "execution_count": 160,
   "id": "3da3f7b7-5ebd-44f6-b7be-5999566a5e25",
   "metadata": {},
   "outputs": [
    {
     "name": "stdout",
     "output_type": "stream",
     "text": [
      "Полеты совершались на дронах следующих моделей: {'DJI Mavic 3', 'DJI Mavic 2 Pro', 'DJI Inspire 2', 'DJI Mavic 2 Enterprise Advanced', 'DJI Mavic 2 Zoom'}\n"
     ]
    }
   ],
   "source": [
    "# TODO 2-2) Получите и выведите список всех моделей дронов, которые были в файле pilot_path.json\n",
    "# Подсказка: внутри print используйте str.join(), чтобы соединить элементы списка (множества)\n",
    "\n",
    "# РЕЗУЛЬТАТ:\n",
    "# Полеты совершались на дронах следующих моделей: DJI Mavic 2 Pro, DJI Mavic 3, DJI Inspire 2, DJI Mavic 2 Zoom, DJI Mavic 2 Enterprise Advanced\n",
    "\n",
    "# ВАШ КОД:\n",
    "drones = set()\n",
    "\n",
    "for pilot in data:\n",
    "    if data[pilot]['missions'][0]['drone'] in drones:\n",
    "        continue\n",
    "    else:\n",
    "        drones.add(data[pilot]['missions'][0]['drone'])\n",
    "    \n",
    "# вывод результата (допишите код)\n",
    "print(f'Полеты совершались на дронах следующих моделей:',  drones)"
   ]
  },
  {
   "cell_type": "code",
   "execution_count": 161,
   "id": "16f88db7-f99a-4670-aef1-2ed7ac189eee",
   "metadata": {},
   "outputs": [
    {
     "name": "stdout",
     "output_type": "stream",
     "text": [
      "Дрон DJI Mavic 3 отлетал 4 миссий\n",
      "Дрон DJI Mavic 2 Pro отлетал 6 миссий\n",
      "Дрон DJI Inspire 2 отлетал 6 миссий\n",
      "Дрон DJI Mavic 2 Enterprise Advanced отлетал 10 миссий\n",
      "Дрон DJI Mavic 2 Zoom отлетал 9 миссий\n"
     ]
    }
   ],
   "source": [
    "# TODO 2-3) Получите список миссий для каждой модели дронов, которые были в файле pilot_path.json,\n",
    "# и выведите на экран модель дрона и количество миссий, которые он отлетал\n",
    "\n",
    "# РЕЗУЛЬТАТ:\n",
    "# Дрон DJI Inspire 2 отлетал 6 миссий\n",
    "# Дрон DJI Mavic 2 Pro отлетал 6 миссий\n",
    "# Дрон DJI Mavic 2 Enterprise Advanced отлетал 10 миссий\n",
    "# Дрон DJI Mavic 3 отлетал 4 миссий\n",
    "# Дрон DJI Mavic 2 Zoom отлетал 9 миссий\n",
    "\n",
    "# ВАШ КОД:\n",
    "drone_models_list = list()\n",
    "\n",
    "list_of_drones = []\n",
    "\n",
    "for pilot in data:\n",
    "    i = 0\n",
    "    for mission in data[pilot]['missions']:\n",
    "        list_of_drones.append(data[pilot]['missions'][i]['drone'])\n",
    "        i+=1\n",
    "        \n",
    "\n",
    "# вывод результата (допишите код)\n",
    "for model in set(list_of_drones):\n",
    "    print(f'Дрон {model} отлетал {list_of_drones.count(model)} миссий')"
   ]
  },
  {
   "cell_type": "code",
   "execution_count": 162,
   "id": "4515d29a-a4b9-4122-ae94-20004d3ed8ec",
   "metadata": {},
   "outputs": [],
   "source": [
    "# =====================================\n",
    "# ЗАДАНИЕ 3: Создание классов\n",
    "# =====================================\n",
    "# Для вас уже написаны заготовки классов Aircraft и UAV\n",
    "# TODO 3-1) Добавьте в класс UAV защищенный атрибут _=_missions (тип - список списков [[], []]), куда вы будете сохранять все миссии, которые отлетал беспилотник\n",
    "# TODO 3-2) При помощи декоратора @property сделайте возможность чтения и записи миссий в этот атрибут (лекция 8)\n",
    "# TODO 3-3) Создайте в классе UAV публичный метод count_missions, который возвращает количество миссий (лекция 7)\n",
    "# TODO 3-4) Создайте класс MultirotorUAV - наследник классов Aircraft и UAV (лекция 7)\n",
    "\n",
    "# ВАШ КОД (дополните то, что нужно в классах):\n",
    "class Aircraft:\n",
    "\tdef __init__(self, weight):\n",
    "\t\tself._weight = weight\n",
    "\n",
    "class UAV:\n",
    "\tdef __init__(self):\n",
    "\t\tself._has_autopilot = True\n",
    "\t\tself._missions = []\n",
    "\n",
    "\t# напишите код для декоратора атрибута _missions\n",
    "\t@property\n",
    "\tdef missions(self):\n",
    "\t\treturn self._missions\n",
    "    \n",
    "\t@missions.setter\n",
    "\tdef missions(self, add_misssion):\n",
    "\t\tself._missions.append(add_mission)\n",
    "    \n",
    "\t# напишите публичный метод count_missions\n",
    "\tdef count_missions(self):\n",
    "\t\treturn len(self._missions)\n",
    "    \n",
    "class MultirotorUAV(Aircraft, UAV):\n",
    "\tdef __init__(self, weight, model, brand):\n",
    "\t\tsuper().__init__(weight)\n",
    "\t\tUAV.__init__(self)\n",
    "\t\tself.__weight = weight\n",
    "\t\tself.__model = model\n",
    "\t\tself.__brand = brand\n",
    "\n",
    "\t# напишите публичный метод get_info\n",
    "\tdef get_info(self):\n",
    "\t\treturn f'Масса: {self.__weight}, Брэнд: {self.__brand}, Кол-во миссий: {self.count_missions()}'\n",
    "\n",
    "\t# напишите публичный метод get_model\n",
    "\tdef get_model(self):\n",
    "\t\treturn self.__model\n"
   ]
  },
  {
   "cell_type": "code",
   "execution_count": 163,
   "id": "6ac50035-deb6-43da-b7cd-ce9a6111e8d4",
   "metadata": {},
   "outputs": [
    {
     "name": "stdin",
     "output_type": "stream",
     "text": [
      "Введите модель дрона (полностью) в любом регистре\n",
      " dji\n"
     ]
    },
    {
     "name": "stdout",
     "output_type": "stream",
     "text": [
      "Данные о дроне DJI Mavic 2 Pro: Масса: 903, Брэнд: DJI, Кол-во миссий: 6\n"
     ]
    }
   ],
   "source": [
    "# =====================================\n",
    "# ЗАДАНИЕ 4: Работа с экземплярами классов\n",
    "# =====================================\n",
    "# TODO 4-1) Создайте экземпляры класса MultirotorUAV для всех моделей дронов, которые были в файле pilot_path.json\n",
    "# Подсказка: созданные экземпляры класса MultirotorUAV сохраните в список для последующего использования\n",
    "# TODO 4-2) При создании каждого экземпляра задайте ему как приватные атрибуты массу и производителя из справочника дронов drone_catalog в соответствии с моделью дрона\n",
    "# TODO 4-3) А также добавьте ему миссии, найденные для этой модели дрона на шаге 2-3\n",
    "# Напоминание: миссии находятся в атрибуте missions (с декоратором, и поэтому он публично доступен) в классе UAV\n",
    "\n",
    "# каталог дронов уже готов для вас:\n",
    "drone_catalog = {\n",
    "\t\"DJI Mavic 2 Pro\": {\"weight\":903, \"brand\":\"DJI\"},\n",
    "\t\"DJI Mavic 2 Zoom\": {\"weight\":900, \"brand\":\"DJI\"},\n",
    "\t\"DJI Mavic 2 Enterprise Advanced\": {\"weight\":920, \"brand\":\"DJI\"},\n",
    "\t\"DJI Inspire 2\": {\"weight\":1500, \"brand\":\"DJI\"},\n",
    "\t\"DJI Mavic 3\": {\"weight\":1000, \"brand\":\"DJI\"}\n",
    "}\n",
    "\n",
    "# ВАШ КОД:\n",
    "drone_list = []\n",
    "\n",
    "for drone in drones:\n",
    "    new_drone = MultirotorUAV(\n",
    "        weight = drone_catalog[drone]['weight'],\n",
    "        model = drone,\n",
    "        brand = drone_catalog[drone]['brand']\n",
    "    )\n",
    "    missions = []\n",
    "    for pilot in data:\n",
    "        i = 0\n",
    "        for mission in data[pilot]['missions']:\n",
    "            if data[pilot]['missions'][i]['drone'] == drone:\n",
    "                new_drone.missions.append(data[pilot]['missions'][0]['drone'])\n",
    "            i += 1\n",
    "            \n",
    "    drone_list.append(new_drone)\n",
    "\n",
    "# TODO 4-4\n",
    "# Напишите код, который выводит информацию по заданной модели дрона. Состав информации: масса, производитель, количество отлетанных миссий\n",
    "# (название модели пользователь вводит с клавиатуры в любом регистре, но без опечаток)\n",
    "# Подсказка: для этого вам необходимо вернуться в ЗАДАНИЕ 3 и добавить в класс два публичных метода: get_info(), который выводит нужную информацию,\n",
    "# и get_model, который позволит получить название модели дрона\n",
    "\n",
    "# РЕЗУЛЬТАТ:\n",
    "# Информация о дроне DJI Mavic 2 Pro: масса 903, производитель DJI, количество миссий 6\n",
    "\n",
    "# ВАШ КОД:\n",
    "user_unput = input(\"Введите модель дрона (полностью) в любом регистре\\n\")\n",
    "drone_model = [\n",
    "    \"DJI Mavic 2 Pro\",\n",
    "    \"DJI Mavic 2 Zoom\",\n",
    "    \"DJI Mavic 2 Enterprise Advanced\",\n",
    "    \"DJI Inspire 2\",\n",
    "    \"DJI Mavic 3\"\n",
    "]\n",
    "\n",
    "for drone in drone_list:\n",
    "    for temp in drone_model:\n",
    "        if temp.lower() == user_unput.lower():\n",
    "            res = temp\n",
    "            break\n",
    "            \n",
    "    if drone.get_model() == res:\n",
    "        print(f'Данные о дроне {drone.get_model()}: {drone.get_info()}')"
   ]
  },
  {
   "cell_type": "code",
   "execution_count": null,
   "id": "b2e38dd0-b259-4faf-8273-5ffe28244acf",
   "metadata": {},
   "outputs": [],
   "source": []
  }
 ],
 "metadata": {
  "kernelspec": {
   "display_name": "Python 3 (ipykernel)",
   "language": "python",
   "name": "python3"
  },
  "language_info": {
   "codemirror_mode": {
    "name": "ipython",
    "version": 3
   },
   "file_extension": ".py",
   "mimetype": "text/x-python",
   "name": "python",
   "nbconvert_exporter": "python",
   "pygments_lexer": "ipython3",
   "version": "3.10.4"
  }
 },
 "nbformat": 4,
 "nbformat_minor": 5
}
