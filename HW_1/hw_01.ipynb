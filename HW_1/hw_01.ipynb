{
 "cells": [
  {
   "cell_type": "code",
   "execution_count": 1,
   "id": "77aaa4c4-1741-4b86-b333-cf6491014946",
   "metadata": {},
   "outputs": [],
   "source": [
    "drone_list = [\"DJI Mavic 2 Pro\", \"DJI Mavic 2 Zoom\", \"DJI Mavic 2 Enterprise Advanced\", \"AUTEL Evo II Pro\", \"DJI Mini 2\", \"Autel Evo Nano\", \"Autel Evo Lite Plus\", \"Parrot Anafi\", \"Dji Inspire 2\", \"DJI Mavic 3\", \"DJI Mavic Air2s\", \"Ryze Tello\", \"Eachine Trashcan\"]\n",
    "\n",
    "drone_weight_list = [903, 900, 920, 980, 249, 249, 600, 540, 1500, 1000, 570, 130, 110]\n"
   ]
  },
  {
   "cell_type": "code",
   "execution_count": 2,
   "id": "22145b17-4f6a-4f1e-bc8c-230faac0230f",
   "metadata": {},
   "outputs": [
    {
     "name": "stdout",
     "output_type": "stream",
     "text": [
      "DJI Mavic 2 Pro\n",
      "DJI Mavic 2 Zoom\n",
      "DJI Mavic 2 Enterprise Advanced\n",
      "AUTEL Evo II Pro\n",
      "DJI Mini 2\n",
      "Autel Evo Nano\n",
      "Autel Evo Lite Plus\n",
      "Parrot Anafi\n",
      "Dji Inspire 2\n",
      "DJI Mavic 3\n",
      "DJI Mavic Air2s\n",
      "Ryze Tello\n",
      "Eachine Trashcan\n"
     ]
    },
    {
     "name": "stdin",
     "output_type": "stream",
     "text": [
      "Введи название производителя:  Dji\n"
     ]
    },
    {
     "name": "stdout",
     "output_type": "stream",
     "text": [
      "\n",
      "Всего 7 дронов\n"
     ]
    }
   ],
   "source": [
    "#в drone по очереди попадает каждый дрон из списка drone_list\n",
    "for drone in drone_list:\n",
    "\tprint(drone)\n",
    "\n",
    "#TODO1\n",
    "#выведите все дроны производителя, название которого введет пользователь через input, и подсчитайте их количество. \n",
    "#учтите, что:\n",
    "#1) DJI и Dji - это один и тот же производитель! такие случаи тоже должны обрабатываться\n",
    "#2) при выводе исправьте название производителя, если допущена ошибка. правильный вариант названия: DJI, Autel\n",
    "\n",
    "brand = input(\"Введи название производителя: \")\n",
    "count = 0\n",
    "for drone in drone_list:\n",
    "    if drone.split(' ', 1)[0].upper() == \"DJI\":\n",
    "        drone = drone.replace(drone.split(' ', 1)[0], \"DJI\")\n",
    "    elif drone.split(' ', 1)[0].upper() == \"AUTEL\":\n",
    "        drone = drone.replace(drone.split(' ', 1)[0], \"Autel\")\n",
    "    if brand.upper() == drone.split(' ', 1)[0].upper():\n",
    "        count += 1\n",
    "\n",
    "        \n",
    "print(f'\\nВсего {count} дронов')"
   ]
  },
  {
   "cell_type": "code",
   "execution_count": 3,
   "id": "7f6b670e-f575-46a8-a810-c9e46018c54e",
   "metadata": {},
   "outputs": [
    {
     "name": "stdout",
     "output_type": "stream",
     "text": [
      "DJL: 7\n",
      "Autel: 3\n",
      "Parrot: 1\n",
      "Ryze: 1\n",
      "Eachine: 1\n"
     ]
    }
   ],
   "source": [
    "#TODO2\n",
    "#подсчитайте количество моделей дронов каждого производителя из списка drone_list. производители: DJI, Autel, Parrot, Ryze, Eachine\n",
    "\n",
    "DJI_count = Autel_count = Parrot_count = Ryze_count = Eachine_count = 0\n",
    "\n",
    "for drone in drone_list:\n",
    "    if \"dji\".upper() == drone.split(' ', 1)[0].upper():\n",
    "        DJI_count += 1\n",
    "    elif \"autel\".upper() == drone.split(' ', 1)[0].upper():\n",
    "        Autel_count += 1\n",
    "    elif \"parrot\".upper() == drone.split(' ', 1)[0].upper():\n",
    "        Parrot_count += 1\n",
    "    elif \"ryze\".upper() == drone.split(' ', 1)[0].upper():\n",
    "        Ryze_count += 1\n",
    "    elif \"eachine\".upper() == drone.split(' ', 1)[0].upper():\n",
    "        Eachine_count += 1\n",
    "        \n",
    "print(f'DJL: {DJI_count}\\nAutel: {Autel_count}\\nParrot: {Parrot_count}\\nRyze: {Ryze_count}\\nEachine: {Eachine_count}')\n",
    "    \n"
   ]
  },
  {
   "cell_type": "code",
   "execution_count": 4,
   "id": "674d0c20-8bb4-4b14-b9c2-1707d477746f",
   "metadata": {},
   "outputs": [
    {
     "name": "stdout",
     "output_type": "stream",
     "text": [
      "Регистрировать следует следующие дроны:\n",
      "\n",
      "DJI Mavic Air2s\n",
      "DJI Mavic 3\n",
      "DJI Inspire 2\n",
      "Parrot Anafi\n",
      "Autel Evo Lite Plus\n",
      "Autel Evo Nano\n",
      "DJI Mini 2\n",
      "Autel Evo II Pro\n",
      "DJI Mavic 2 Enterprise Advanced\n",
      "DJI Mavic 2 Zoom\n",
      "DJI Mavic 2 Pro\n",
      "Всего 11 дронов\n",
      "\n",
      "\n",
      "Можно не регистрировать следующие дроны:\n",
      "\n",
      "Eachine Trashcan\n",
      "Ryze Tello\n",
      "Всего 2 дронов\n",
      "\n",
      "\n"
     ]
    }
   ],
   "source": [
    "#TODO3\n",
    "#выведите все дроны из списка, которые нужно регистрировать (масса больше 150 г), и подсчитайте их количество. \n",
    "#сделайте то же самое для всех дронов, которые не нужно регистрировать\n",
    "#для этого вам нужно параллельно обрабатывать два списка: drone_list и drone_weight_list:\n",
    "#как работает zip, мы разберем на лекции про списки. пока что просто пользуйтесь\n",
    "#for drone, weight in zip(drone_list,  drone_weight_list):\n",
    "#\tprint(drone, weight)\n",
    "    \n",
    "    \n",
    "heavy_Drone_List = []\n",
    "light_Drone_List = []\n",
    "heavy_Count = 0\n",
    "light_Count = 0\n",
    "    \n",
    "for drone, weight in zip(drone_list,  drone_weight_list):\n",
    "    if drone.split(' ', 1)[0].upper() == \"DJI\":\n",
    "        drone = drone.replace(drone.split(' ', 1)[0], \"DJI\")\n",
    "    elif drone.split(' ', 1)[0].upper() == \"AUTEL\":\n",
    "        drone = drone.replace(drone.split(' ', 1)[0], \"Autel\")\n",
    "    if weight > 150:\n",
    "        heavy_Drone_List.insert(0, drone)\n",
    "        heavy_Count += 1\n",
    "    else:\n",
    "        light_Drone_List.insert(0, drone)\n",
    "        light_Count += 1\n",
    "        \n",
    "print(\"Регистрировать следует следующие дроны:\\n\")\n",
    "for item in heavy_Drone_List:\n",
    "    print(f'{item}')\n",
    "print(f'Всего {heavy_Count} дронов\\n\\n')\n",
    "print(\"Можно не регистрировать следующие дроны:\\n\")\n",
    "for item in light_Drone_List:\n",
    "    print(f'{item}')\n",
    "print(f'Всего {light_Count} дронов\\n\\n')"
   ]
  },
  {
   "cell_type": "code",
   "execution_count": 5,
   "id": "c11aa63c-9c3c-44c4-8b08-3bfa82d65a16",
   "metadata": {},
   "outputs": [
    {
     "name": "stdout",
     "output_type": "stream",
     "text": [
      "DJI Mavic 2 Pro - согласоввывать нужно\n",
      "DJI Mavic 2 Zoom - согласоввывать нужно\n",
      "DJI Mavic 2 Enterprise Advanced - согласоввывать нужно\n",
      "AUTEL Evo II Pro - согласоввывать нужно\n",
      "DJI Mini 2 - согласоввывать нужно\n",
      "Autel Evo Nano - согласоввывать нужно\n",
      "Autel Evo Lite Plus - согласоввывать нужно\n",
      "Parrot Anafi - согласоввывать нужно\n",
      "Dji Inspire 2 - согласоввывать нужно\n",
      "DJI Mavic 3 - согласоввывать нужно\n",
      "DJI Mavic Air2s - согласоввывать нужно\n",
      "Ryze Tello - согласовывать не нужно\n",
      "Eachine Trashcan - согласовывать не нужно\n"
     ]
    }
   ],
   "source": [
    "#TODO4\n",
    "#для каждого дрона из списка выведите, нудно ли согласовывать полет при следующих условиях:\n",
    "#высота 100 м, полет над населенным пунктом, вне закрытых зон, в прямой видимости\n",
    "#помните, что для дронов тяжелее 150 г согласовывать полет над населенным пунктом - обязательно!\n",
    "\n",
    "\n",
    "height = 100\n",
    "isSettlement = True\n",
    "isLocationClosed = False\n",
    "isVisible = True\n",
    "\n",
    "for drone, weight in zip(drone_list,  drone_weight_list):\n",
    "    if weight < 150 or not isSettlement and height < 150 and not isLocationClosed and isVisible:\n",
    "        print(f'{drone} - согласовывать не нужно')\n",
    "    else:\n",
    "        print(f'{drone} - согласоввывать нужно')"
   ]
  },
  {
   "cell_type": "code",
   "execution_count": 6,
   "id": "794783b9-d9ac-4d45-b9f6-d3fbe6c84a31",
   "metadata": {},
   "outputs": [
    {
     "name": "stdin",
     "output_type": "stream",
     "text": [
      "Введи название производителя:  dji\n"
     ]
    },
    {
     "name": "stdout",
     "output_type": "stream",
     "text": [
      " Mavic 2 Pro\n",
      " Mavic 2 Zoom\n",
      " Mavic 2 Enterprise Advanced\n",
      " Mini 2\n",
      " Inspire 2\n",
      " Mavic 3\n",
      " Mavic Air2s\n",
      "\n",
      "Всего 7 дронов\n"
     ]
    }
   ],
   "source": [
    "#TODO5*\n",
    "#модифицируйте решение задания TODO1:\n",
    "#теперь для введенного пользователем производителя вы должны вывести строку, содержащую перечисление моделей и БЕЗ названия производителя.\n",
    "#например, пользователь ввел \"Autel\". ваша программа должна вывести вот такой результат: \"Evo II Pro, Evo Nano, Evo Lite Plus\". для этого вам понадобится несколько функций работы со строками. решить эту задачу можно несколькими разными способами\n",
    "#производители те же: DJI, Autel, Parrot, Ryze, Eachine\n",
    "\n",
    "\n",
    "brand = input(\"Введи название производителя: \")\n",
    "count = 0\n",
    "for drone in drone_list:\n",
    "    if drone.split(' ', 1)[0].upper() == \"DJI\":\n",
    "        drone = drone.replace(drone.split(' ', 1)[0], \"DJI\")\n",
    "    elif drone.split(' ', 1)[0].upper() == \"AUTEL\":\n",
    "        drone = drone.replace(drone.split(' ', 1)[0], \"Autel\")\n",
    "    if brand.upper() == drone.split(' ', 1)[0].upper():\n",
    "        count += 1\n",
    "        print(drone.replace(drone.split(' ', 1)[0], ''))\n",
    "        \n",
    "print(f'\\nВсего {count} дронов')"
   ]
  },
  {
   "cell_type": "code",
   "execution_count": null,
   "id": "d8615291-2aae-4ed4-aa37-c4efb81df510",
   "metadata": {},
   "outputs": [],
   "source": []
  }
 ],
 "metadata": {
  "kernelspec": {
   "display_name": "Python 3 (ipykernel)",
   "language": "python",
   "name": "python3"
  },
  "language_info": {
   "codemirror_mode": {
    "name": "ipython",
    "version": 3
   },
   "file_extension": ".py",
   "mimetype": "text/x-python",
   "name": "python",
   "nbconvert_exporter": "python",
   "pygments_lexer": "ipython3",
   "version": "3.10.4"
  }
 },
 "nbformat": 4,
 "nbformat_minor": 5
}
